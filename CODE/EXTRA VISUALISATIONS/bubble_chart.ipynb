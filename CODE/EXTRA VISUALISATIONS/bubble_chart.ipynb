{
  "nbformat": 4,
  "nbformat_minor": 0,
  "metadata": {
    "colab": {
      "name": "bubble chart.ipynb",
      "provenance": []
    },
    "kernelspec": {
      "name": "python3",
      "display_name": "Python 3"
    },
    "language_info": {
      "name": "python"
    }
  },
  "cells": [
    {
      "cell_type": "code",
      "source": [
        "from pylab import *\n",
        "from scipy import *\n",
        "import pandas as pd\n",
        "import numpy"
      ],
      "metadata": {
        "id": "7wVtATr1X3s7"
      },
      "execution_count": null,
      "outputs": []
    },
    {
      "cell_type": "code",
      "source": [
        "from google.colab import drive\n",
        "drive.mount('/content/gdrive')"
      ],
      "metadata": {
        "colab": {
          "base_uri": "https://localhost:8080/"
        },
        "id": "yYmzVupyYlJv",
        "outputId": "02f66c1c-555f-438d-e699-8c473abd022f"
      },
      "execution_count": null,
      "outputs": [
        {
          "output_type": "stream",
          "name": "stdout",
          "text": [
            "Drive already mounted at /content/gdrive; to attempt to forcibly remount, call drive.mount(\"/content/gdrive\", force_remount=True).\n"
          ]
        }
      ]
    },
    {
      "cell_type": "code",
      "source": [
        "# reading the data from csv files\n",
        "dens_data = pd.read_csv('/content/gdrive/MyDrive/data/density_map_data')\n",
        "dens_data = dens_data[['borough_name','venue_density']]\n",
        "dep = pd.read_csv('gdrive/My Drive/data/IMD_clean.csv')\n",
        "dep = dep[['Local Authority District name (2019)','IMD']]\n",
        "dep = dep.rename(columns={'Local Authority District name (2019)':'borough_name'})\n",
        "dep.head()\n",
        "\n",
        "qual = pd.read_csv('gdrive/My Drive/data/percent_no_qualifications.csv')\n",
        "qual = qual.rename(columns={'percent':'no qualifications (%)','NAME':'borough_name'})\n",
        "qual.head()\n",
        "\n",
        "eth = pd.read_csv('gdrive/My Drive/data/ethnicity_data_clean.csv')\n",
        "eth= eth.rename(columns={'NAME':'borough_name'})\n",
        "eth.head()\n",
        "\n",
        "# merging datasets\n",
        "merged = dens_data.merge(dep, on='borough_name')\n",
        "merged1 = merged.merge(qual,on='borough_name')\n",
        "merged2 = merged1.merge(eth, on='borough_name')\n",
        "merged2 = merged2[['borough_name','venue_density','IMD','no qualifications (%)','quartile.1']]\n",
        "merged2.head()\n",
        "merged2['size'] = merged2['venue_density']*100000\n",
        "merged2.head()\n",
        "\n",
        "# drop NaN values\n",
        "merged2 = merged2.dropna()"
      ],
      "metadata": {
        "colab": {
          "base_uri": "https://localhost:8080/",
          "height": 201
        },
        "id": "O4WNJv6mYQdu",
        "outputId": "b960c4a9-2c3c-440f-aeab-d534abf9ff76"
      },
      "execution_count": null,
      "outputs": [
        {
          "output_type": "execute_result",
          "data": {
            "text/html": [
              "\n",
              "  <div id=\"df-2b0d21c6-e455-4303-8aac-8bb29c1d7cf5\">\n",
              "    <div class=\"colab-df-container\">\n",
              "      <div>\n",
              "<style scoped>\n",
              "    .dataframe tbody tr th:only-of-type {\n",
              "        vertical-align: middle;\n",
              "    }\n",
              "\n",
              "    .dataframe tbody tr th {\n",
              "        vertical-align: top;\n",
              "    }\n",
              "\n",
              "    .dataframe thead th {\n",
              "        text-align: right;\n",
              "    }\n",
              "</style>\n",
              "<table border=\"1\" class=\"dataframe\">\n",
              "  <thead>\n",
              "    <tr style=\"text-align: right;\">\n",
              "      <th></th>\n",
              "      <th>borough_name</th>\n",
              "      <th>venue_density</th>\n",
              "    </tr>\n",
              "  </thead>\n",
              "  <tbody>\n",
              "    <tr>\n",
              "      <th>0</th>\n",
              "      <td>Kingston upon Thames</td>\n",
              "      <td>0.004026</td>\n",
              "    </tr>\n",
              "    <tr>\n",
              "      <th>1</th>\n",
              "      <td>Croydon</td>\n",
              "      <td>0.004047</td>\n",
              "    </tr>\n",
              "    <tr>\n",
              "      <th>2</th>\n",
              "      <td>Bromley</td>\n",
              "      <td>0.002864</td>\n",
              "    </tr>\n",
              "    <tr>\n",
              "      <th>3</th>\n",
              "      <td>Hounslow</td>\n",
              "      <td>0.006892</td>\n",
              "    </tr>\n",
              "    <tr>\n",
              "      <th>4</th>\n",
              "      <td>Ealing</td>\n",
              "      <td>0.005581</td>\n",
              "    </tr>\n",
              "  </tbody>\n",
              "</table>\n",
              "</div>\n",
              "      <button class=\"colab-df-convert\" onclick=\"convertToInteractive('df-2b0d21c6-e455-4303-8aac-8bb29c1d7cf5')\"\n",
              "              title=\"Convert this dataframe to an interactive table.\"\n",
              "              style=\"display:none;\">\n",
              "        \n",
              "  <svg xmlns=\"http://www.w3.org/2000/svg\" height=\"24px\"viewBox=\"0 0 24 24\"\n",
              "       width=\"24px\">\n",
              "    <path d=\"M0 0h24v24H0V0z\" fill=\"none\"/>\n",
              "    <path d=\"M18.56 5.44l.94 2.06.94-2.06 2.06-.94-2.06-.94-.94-2.06-.94 2.06-2.06.94zm-11 1L8.5 8.5l.94-2.06 2.06-.94-2.06-.94L8.5 2.5l-.94 2.06-2.06.94zm10 10l.94 2.06.94-2.06 2.06-.94-2.06-.94-.94-2.06-.94 2.06-2.06.94z\"/><path d=\"M17.41 7.96l-1.37-1.37c-.4-.4-.92-.59-1.43-.59-.52 0-1.04.2-1.43.59L10.3 9.45l-7.72 7.72c-.78.78-.78 2.05 0 2.83L4 21.41c.39.39.9.59 1.41.59.51 0 1.02-.2 1.41-.59l7.78-7.78 2.81-2.81c.8-.78.8-2.07 0-2.86zM5.41 20L4 18.59l7.72-7.72 1.47 1.35L5.41 20z\"/>\n",
              "  </svg>\n",
              "      </button>\n",
              "      \n",
              "  <style>\n",
              "    .colab-df-container {\n",
              "      display:flex;\n",
              "      flex-wrap:wrap;\n",
              "      gap: 12px;\n",
              "    }\n",
              "\n",
              "    .colab-df-convert {\n",
              "      background-color: #E8F0FE;\n",
              "      border: none;\n",
              "      border-radius: 50%;\n",
              "      cursor: pointer;\n",
              "      display: none;\n",
              "      fill: #1967D2;\n",
              "      height: 32px;\n",
              "      padding: 0 0 0 0;\n",
              "      width: 32px;\n",
              "    }\n",
              "\n",
              "    .colab-df-convert:hover {\n",
              "      background-color: #E2EBFA;\n",
              "      box-shadow: 0px 1px 2px rgba(60, 64, 67, 0.3), 0px 1px 3px 1px rgba(60, 64, 67, 0.15);\n",
              "      fill: #174EA6;\n",
              "    }\n",
              "\n",
              "    [theme=dark] .colab-df-convert {\n",
              "      background-color: #3B4455;\n",
              "      fill: #D2E3FC;\n",
              "    }\n",
              "\n",
              "    [theme=dark] .colab-df-convert:hover {\n",
              "      background-color: #434B5C;\n",
              "      box-shadow: 0px 1px 3px 1px rgba(0, 0, 0, 0.15);\n",
              "      filter: drop-shadow(0px 1px 2px rgba(0, 0, 0, 0.3));\n",
              "      fill: #FFFFFF;\n",
              "    }\n",
              "  </style>\n",
              "\n",
              "      <script>\n",
              "        const buttonEl =\n",
              "          document.querySelector('#df-2b0d21c6-e455-4303-8aac-8bb29c1d7cf5 button.colab-df-convert');\n",
              "        buttonEl.style.display =\n",
              "          google.colab.kernel.accessAllowed ? 'block' : 'none';\n",
              "\n",
              "        async function convertToInteractive(key) {\n",
              "          const element = document.querySelector('#df-2b0d21c6-e455-4303-8aac-8bb29c1d7cf5');\n",
              "          const dataTable =\n",
              "            await google.colab.kernel.invokeFunction('convertToInteractive',\n",
              "                                                     [key], {});\n",
              "          if (!dataTable) return;\n",
              "\n",
              "          const docLinkHtml = 'Like what you see? Visit the ' +\n",
              "            '<a target=\"_blank\" href=https://colab.research.google.com/notebooks/data_table.ipynb>data table notebook</a>'\n",
              "            + ' to learn more about interactive tables.';\n",
              "          element.innerHTML = '';\n",
              "          dataTable['output_type'] = 'display_data';\n",
              "          await google.colab.output.renderOutput(dataTable, element);\n",
              "          const docLink = document.createElement('div');\n",
              "          docLink.innerHTML = docLinkHtml;\n",
              "          element.appendChild(docLink);\n",
              "        }\n",
              "      </script>\n",
              "    </div>\n",
              "  </div>\n",
              "  "
            ],
            "text/plain": [
              "           borough_name  venue_density\n",
              "0  Kingston upon Thames       0.004026\n",
              "1               Croydon       0.004047\n",
              "2               Bromley       0.002864\n",
              "3              Hounslow       0.006892\n",
              "4                Ealing       0.005581"
            ]
          },
          "metadata": {},
          "execution_count": 4
        }
      ]
    },
    {
      "cell_type": "code",
      "source": [
        "# populate a color column corresponding to quartile\n",
        "dictionary = {\n",
        "    1.0: 'blue',\n",
        "    2.0: 'yellow',\n",
        "    3.0: 'green',\n",
        "    4.0: 'pink'\n",
        "}\n",
        "\n",
        "quartiles = merged2['quartile.1'].to_list()\n",
        "\n",
        "colors = []\n",
        "for i in quartiles:\n",
        " colors.append(dictionary[i])\n",
        "\n",
        "merged2['color'] = colors\n",
        "merged2.head()"
      ],
      "metadata": {
        "id": "ZAmMHYgrPQ5E"
      },
      "execution_count": null,
      "outputs": []
    },
    {
      "cell_type": "code",
      "source": [
        "# create scatter plot\n",
        "plt.scatter('IMD','no qualifications (%)', \n",
        "            alpha=0.5,\n",
        "            s=merged2['size'],\n",
        "            c='color',\n",
        "            data=merged2)\n",
        "plt.xlabel(\"Multiple deprivation index\", size=10)\n",
        "plt.ylabel(\"Percentage with no qualifications (%)\", size=10)\n",
        "plt.title(\"MDI vs. no qualifications (%)\", size=12)\n",
        "plt.xlim((merged2['IMD'].min()-2), (merged2['IMD'].max())+5)\n",
        "plt.ylim((merged2['no qualifications (%)'].min()-2.5), (merged2['no qualifications (%)'].max())+5)"
      ],
      "metadata": {
        "colab": {
          "base_uri": "https://localhost:8080/",
          "height": 311
        },
        "id": "Ggf6uXt0mR0V",
        "outputId": "631d56fb-aafd-4fc1-83f1-690ce766c946"
      },
      "execution_count": null,
      "outputs": [
        {
          "output_type": "execute_result",
          "data": {
            "text/plain": [
              "<matplotlib.legend.Legend at 0x7f92e3b9ec50>"
            ]
          },
          "metadata": {},
          "execution_count": 43
        },
        {
          "output_type": "display_data",
          "data": {
            "image/png": "[encoded data removed]",
            "text/plain": [
              "<Figure size 432x288 with 1 Axes>"
            ]
          },
          "metadata": {
            "needs_background": "light"
          }
        }
      ]
    }
  ]
}